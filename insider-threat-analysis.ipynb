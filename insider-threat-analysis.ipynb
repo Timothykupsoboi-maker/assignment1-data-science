import pandas as pd
import matplotlib.pyplot as plt

# Sample cybersecurity incident data
data = {
    'Month': ['Jan', 'Feb', 'Mar', 'Apr', 'May'],
    'Finance': [5, 7, 6, 8, 9],
    'HR': [2, 3, 4, 2, 3],
    'IT': [8, 6, 7, 9, 10]
}

# Convert to DataFrame
df = pd.DataFrame(data)

# Set position for bars
x = range(len(df['Month']))
bar_width = 0.25

plt.figure(figsize=(8,6))

# Plot each department with an offset
plt.bar([i - bar_width for i in x], df['Finance'], width=bar_width, label='Finance')
plt.bar(x, df['HR'], width=bar_width, label='HR')
plt.bar([i + bar_width for i in x], df['IT'], width=bar_width, label='IT')

# Labels and title
plt.xticks(x, df['Month'])
plt.xlabel('Month')
plt.ylabel('Incidents Detected')
plt.title('Monthly Cybersecurity Incidents by Department')
plt.legend()

plt.show()
 